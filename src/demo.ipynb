{
 "cells": [
  {
   "cell_type": "code",
   "execution_count": 13,
   "metadata": {},
   "outputs": [],
   "source": [
    "from pyld import jsonld "
   ]
  },
  {
   "cell_type": "code",
   "execution_count": 14,
   "metadata": {},
   "outputs": [],
   "source": [
    "# jsonld.expand('https://wcrp-cmip.github.io/CMIP6Plus_MIP_variables/data_descriptors/variables/ae6hr.bldep.json')\n",
    "\n",
    "prefix  = 'https://wcrp-cmip.github.io/CMIP6Plus_MIP_variables/data_descriptors/variables'\n",
    "\n",
    "fileid  = f'{prefix}/ae6hr.bldep.json'\n",
    "context = f'{prefix}/_context'"
   ]
  },
  {
   "cell_type": "code",
   "execution_count": 15,
   "metadata": {},
   "outputs": [
    {
     "data": {
      "text/plain": [
       "{'@context': 'https://wcrp-cmip.github.io/CMIP6Plus_MIP_variables/data_descriptors/variables/_context',\n",
       " 'id': 'ae6hr.bldep.json',\n",
       " 'mip-tables': [{'id': 'ae6hr.json', 'mip-era': 'cmip6'},\n",
       "  {'id': 'ae6hr.json', 'mip-era': 'cmip6plus'}],\n",
       " 'type': 'mip-variable',\n",
       " 'cell_measures': 'area: areacella',\n",
       " 'cell_methods': 'area: time: mean',\n",
       " 'comment': 'Boundary layer depth',\n",
       " 'dimensions': ['longitude', 'latitude', 'time'],\n",
       " 'dtype': 'real',\n",
       " 'frequency': '6hr',\n",
       " 'long_name': 'Boundary Layer Depth',\n",
       " 'modeling_realm': 'aerosol',\n",
       " 'ok_max_mean_abs': '',\n",
       " 'ok_min_mean_abs': '',\n",
       " 'out_name': 'bldep',\n",
       " 'positive': '',\n",
       " 'standard_name': 'atmosphere_boundary_layer_thickness',\n",
       " 'themes': 'TBC',\n",
       " 'units': 'm',\n",
       " 'valid_max': '',\n",
       " 'valid_min': ''}"
      ]
     },
     "execution_count": 15,
     "metadata": {},
     "output_type": "execute_result"
    }
   ],
   "source": [
    "jsonld.compact(fileid, context)\n",
    "\n",
    "\n"
   ]
  },
  {
   "cell_type": "code",
   "execution_count": 16,
   "metadata": {},
   "outputs": [
    {
     "data": {
      "text/plain": [
       "[{'https://wcrp-cmip.github.io/CMIP6Plus_MIP_variables/data_descriptors/variables/cell_measures': [{'@value': 'area: areacella'}],\n",
       "  'https://wcrp-cmip.github.io/CMIP6Plus_MIP_variables/data_descriptors/variables/cell_methods': [{'@value': 'area: time: mean'}],\n",
       "  'https://wcrp-cmip.github.io/CMIP6Plus_MIP_variables/data_descriptors/variables/comment': [{'@value': 'Boundary layer depth'}],\n",
       "  'https://wcrp-cmip.github.io/CMIP6Plus_MIP_variables/data_descriptors/variables/dimensions': [{'@value': 'longitude'},\n",
       "   {'@value': 'latitude'},\n",
       "   {'@value': 'time'}],\n",
       "  'https://wcrp-cmip.github.io/CMIP6Plus_MIP_variables/data_descriptors/variables/dtype': [{'@value': 'real'}],\n",
       "  'https://wcrp-cmip.github.io/CMIP6Plus_MIP_variables/data_descriptors/variables/frequency': [{'@value': '6hr'}],\n",
       "  '@id': 'https://wcrp-cmip.github.io/CMIP6Plus_MIP_variables/data_descriptors/variables/ae6hr.bldep.json',\n",
       "  'https://wcrp-cmip.github.io/CMIP6Plus_MIP_variables/data_descriptors/variables/long_name': [{'@value': 'Boundary Layer Depth'}],\n",
       "  '@reverse': {'https://wcrp-cmip.github.io/CMIP6Plus_MIP_variables/data_descriptors/tables/variable_entry': [{'@id': 'https://wcrp-cmip.github.io/CMIP6Plus_MIP_variables/data_descriptors/variables/ae6hr.json',\n",
       "     'https://wcrp-cmip.github.io/CMIP6Plus_MIP_variables/data_descriptors/variables/mip-era': [{'@value': 'cmip6'}]},\n",
       "    {'@id': 'https://wcrp-cmip.github.io/CMIP6Plus_MIP_variables/data_descriptors/variables/ae6hr.json',\n",
       "     'https://wcrp-cmip.github.io/CMIP6Plus_MIP_variables/data_descriptors/variables/mip-era': [{'@value': 'cmip6plus'}]}]},\n",
       "  'https://wcrp-cmip.github.io/CMIP6Plus_MIP_variables/data_descriptors/variables/modeling_realm': [{'@value': 'aerosol'}],\n",
       "  'https://wcrp-cmip.github.io/CMIP6Plus_MIP_variables/data_descriptors/variables/ok_max_mean_abs': [{'@value': ''}],\n",
       "  'https://wcrp-cmip.github.io/CMIP6Plus_MIP_variables/data_descriptors/variables/ok_min_mean_abs': [{'@value': ''}],\n",
       "  'https://wcrp-cmip.github.io/CMIP6Plus_MIP_variables/data_descriptors/variables/out_name': [{'@value': 'bldep'}],\n",
       "  'https://wcrp-cmip.github.io/CMIP6Plus_MIP_variables/data_descriptors/variables/positive': [{'@value': ''}],\n",
       "  'https://wcrp-cmip.github.io/CMIP6Plus_MIP_variables/data_descriptors/variables/standard_name': [{'@value': 'atmosphere_boundary_layer_thickness'}],\n",
       "  'https://wcrp-cmip.github.io/CMIP6Plus_MIP_variables/data_descriptors/variables/themes': [{'@value': 'TBC'}],\n",
       "  '@type': ['https://wcrp-cmip.github.io/CMIP6Plus_MIP_variables/data_descriptors/variables/mip-variable'],\n",
       "  'https://wcrp-cmip.github.io/CMIP6Plus_MIP_variables/data_descriptors/variables/units': [{'@value': 'm'}],\n",
       "  'https://wcrp-cmip.github.io/CMIP6Plus_MIP_variables/data_descriptors/variables/valid_max': [{'@value': ''}],\n",
       "  'https://wcrp-cmip.github.io/CMIP6Plus_MIP_variables/data_descriptors/variables/valid_min': [{'@value': ''}]}]"
      ]
     },
     "execution_count": 16,
     "metadata": {},
     "output_type": "execute_result"
    }
   ],
   "source": [
    "jsonld.expand('https://wcrp-cmip.github.io/CMIP6Plus_MIP_variables/data_descriptors/variables/ae6hr.bldep.json')"
   ]
  },
  {
   "cell_type": "code",
   "execution_count": null,
   "metadata": {},
   "outputs": [],
   "source": []
  }
 ],
 "metadata": {
  "kernelspec": {
   "display_name": "documentbrowser",
   "language": "python",
   "name": "python3"
  },
  "language_info": {
   "codemirror_mode": {
    "name": "ipython",
    "version": 3
   },
   "file_extension": ".py",
   "mimetype": "text/x-python",
   "name": "python",
   "nbconvert_exporter": "python",
   "pygments_lexer": "ipython3",
   "version": "3.11.4"
  }
 },
 "nbformat": 4,
 "nbformat_minor": 2
}
