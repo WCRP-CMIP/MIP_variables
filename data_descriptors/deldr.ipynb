{
 "cells": [
  {
   "cell_type": "code",
   "execution_count": 1,
   "metadata": {},
   "outputs": [],
   "source": [
    "import os, glob, json, sys, re"
   ]
  },
  {
   "cell_type": "code",
   "execution_count": 3,
   "metadata": {},
   "outputs": [
    {
     "name": "stdout",
     "output_type": "stream",
     "text": [
      "{'@context': 'https://wcrp-cmip.github.io/MIP_variables/data_descriptors/tables/_context', 'id': 'li3hrpt.json', 'type': 'mip_table', 'Conventions': 'CF-1.7 CMIP-6.5', 'approx_interval': 0.125, 'checksum': '', 'cmor_version': '3.8.0', 'data_specs_version': '6.5.0.0', 'generic_levels': '', 'int_missing_value': '-999', 'missing_value': '1e20', 'product': {'id': 'https://wcrp-cmip.github.io/WCRP-UNIVERSE/data_descriptors/product/model-output.json'}, 'table_date': '2023-11-16', 'table_id': 'LI3hrPt'}\n"
     ]
    }
   ],
   "source": [
    "tables = glob.glob('tables/*.json')\n",
    "\n",
    "for i in tables:\n",
    "    with open(i) as f:\n",
    "        data = json.load(f)\n",
    "        data['type'] = 'mip_table'\n",
    "        data['product'] = {'id': f\"{data['product']}.json\"}\n",
    "        \n",
    "        print(data)\n",
    "        break\n",
    "    "
   ]
  },
  {
   "cell_type": "code",
   "execution_count": null,
   "metadata": {},
   "outputs": [],
   "source": []
  }
 ],
 "metadata": {
  "kernelspec": {
   "display_name": "base",
   "language": "python",
   "name": "python3"
  },
  "language_info": {
   "codemirror_mode": {
    "name": "ipython",
    "version": 3
   },
   "file_extension": ".py",
   "mimetype": "text/x-python",
   "name": "python",
   "nbconvert_exporter": "python",
   "pygments_lexer": "ipython3",
   "version": "3.10.10"
  }
 },
 "nbformat": 4,
 "nbformat_minor": 2
}
