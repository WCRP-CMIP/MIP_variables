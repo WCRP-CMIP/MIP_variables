{
 "cells": [
  {
   "cell_type": "code",
   "execution_count": 5,
   "metadata": {},
   "outputs": [],
   "source": [
    "import os, glob, json, sys, re\n",
    "from collections import OrderedDict"
   ]
  },
  {
   "cell_type": "code",
   "execution_count": 6,
   "metadata": {},
   "outputs": [],
   "source": [
    "tables = glob.glob('tables/*.json')\n",
    "\n",
    "for i in tables:\n",
    "    with open(i) as f:\n",
    "        data = json.load(f)\n",
    "        data['type'] = 'mip_table'\n",
    "        data['product'] = {'id': f\"{data['product']}.json\"}\n",
    "        \n",
    "        # https://wcrp-cmip.github.io/WCRP-UNIVERSE/data_descriptors/product/\n",
    "        \n",
    "    data = OrderedDict(sorted(data.items()))\n",
    "        \n",
    "    json.dump(data, open(i, 'w'), indent=4)\n",
    "        \n",
    "\n",
    "    "
   ]
  },
  {
   "cell_type": "code",
   "execution_count": null,
   "metadata": {},
   "outputs": [],
   "source": []
  }
 ],
 "metadata": {
  "kernelspec": {
   "display_name": "base",
   "language": "python",
   "name": "python3"
  },
  "language_info": {
   "codemirror_mode": {
    "name": "ipython",
    "version": 3
   },
   "file_extension": ".py",
   "mimetype": "text/x-python",
   "name": "python",
   "nbconvert_exporter": "python",
   "pygments_lexer": "ipython3",
   "version": "3.10.10"
  }
 },
 "nbformat": 4,
 "nbformat_minor": 2
}
