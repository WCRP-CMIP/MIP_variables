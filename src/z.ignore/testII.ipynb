{
 "cells": [
  {
   "cell_type": "code",
   "execution_count": 70,
   "metadata": {},
   "outputs": [],
   "source": [
    "import pyld,re,json\n",
    "from pyld import jsonld\n",
    "from pprint import pprint\n",
    "\n",
    "basepath = 'https://wcrp-cmip.github.io/CMIP6Plus_MIP_variables/data_descriptors/'\n",
    "\n",
    "# python3 -m http.server\n",
    "\n",
    "basepath = 'http://localhost:8000/data_descriptors/'\n",
    "\n",
    "\n",
    "default_loader = jsonld.requests_document_loader()"
   ]
  },
  {
   "cell_type": "code",
   "execution_count": 71,
   "metadata": {},
   "outputs": [],
   "source": [
    "import json\n",
    "\n",
    "\n",
    "var = '../data_descriptors/variables/graph.jsonld'\n",
    "table= '../data_descriptors/tables/graph.jsonld'\n",
    "\n",
    "def graph(path):\n",
    "    load = json.load(open(path)) \n",
    "    return load\n",
    "    # out = {}\n",
    "    # # default_loader(load[0]['@context'])['document']\n",
    "    # out['@graph'] = load\n",
    "    # return out\n",
    "    \n",
    "\n",
    "\n",
    "# json.load(open('../data_descriptors/tables/graph.jsonld'))\n",
    "\n",
    "data = [graph(table),graph(var)]"
   ]
  },
  {
   "cell_type": "code",
   "execution_count": 72,
   "metadata": {},
   "outputs": [],
   "source": [
    "# data[0]['@context']"
   ]
  },
  {
   "cell_type": "code",
   "execution_count": 73,
   "metadata": {},
   "outputs": [
    {
     "data": {
      "text/plain": [
       "{'@context': 'http://localhost:8000/data_descriptors/tables/_context',\n",
       " 'id': 'acmon.json',\n",
       " 'type': 'mip-table',\n",
       " 'Conventions': 'CF-1.7 CMIP-6.5',\n",
       " 'approx_interval': 30.0,\n",
       " 'checksum': '',\n",
       " 'cmor_version': '3.8.0',\n",
       " 'data_specs_version': '6.5.0.0',\n",
       " 'generic_levels': '',\n",
       " 'int_missing_value': '-999',\n",
       " 'missing_value': '1e20',\n",
       " 'product': 'model-output',\n",
       " 'table_date': '2023-11-16',\n",
       " 'table_id': 'ACmon'}"
      ]
     },
     "execution_count": 73,
     "metadata": {},
     "output_type": "execute_result"
    }
   ],
   "source": [
    "data[0][\"@graph\"][0]"
   ]
  },
  {
   "cell_type": "code",
   "execution_count": 74,
   "metadata": {},
   "outputs": [
    {
     "name": "stdout",
     "output_type": "stream",
     "text": [
      "{'cmor_version': '3.8.0',\n",
      " 'id': 'acmonz.json',\n",
      " 'table_id': 'ACmonZ',\n",
      " 'type': 'mip-table'}\n"
     ]
    }
   ],
   "source": [
    "\n",
    "# load = json.load(open(table)) \n",
    "# load = default_loader(load[0]['@context'])['document']['@context']\n",
    "\n",
    "\n",
    "frame = {\n",
    "    \"@context\": {\n",
    "        # **load,\n",
    "        **data[0][\"@context\"],\n",
    "     \"te\": \"http://localhost:8000/data_descriptors/unknown\",\n",
    "     \"vars\": {\n",
    "         \"@reverse\": \"http://localhost:8000/data_descriptors/variables/mip-tables\",\n",
    "         \"@context\": \"http://localhost:8000/data_descriptors/variables/_context\",\n",
    "        #  \"@type\": \"@id\"\n",
    "    \n",
    "     }\n",
    "    \n",
    "    },\n",
    "    '@type':\"http://localhost:8000/data_descriptors/tables/mip-table\",\n",
    "    \"http://localhost:8000/data_descriptors/tables/table_id\":{},\n",
    "    # \"te:vars\": {},\n",
    "    \"vars\": {\"@explicit\": True},\n",
    "    \"cmor_version\": {},\n",
    "    \n",
    "    \"@explicit\": True,\n",
    "}\n",
    "pprint(jsonld.frame(data,frame)['@graph'][1])\n"
   ]
  },
  {
   "cell_type": "code",
   "execution_count": 75,
   "metadata": {},
   "outputs": [],
   "source": [
    "# pprint(jsonld.expand('http://localhost:8000/data_descriptors/variables/acmonz.oxloss.json'))\n"
   ]
  },
  {
   "cell_type": "code",
   "execution_count": 79,
   "metadata": {},
   "outputs": [
    {
     "name": "stdout",
     "output_type": "stream",
     "text": [
      "{'Conventions': 'CF-1.7 CMIP-6.5',\n",
      " 'approx_interval': 30.0,\n",
      " 'checksum': '',\n",
      " 'cmor_version': '3.8.0',\n",
      " 'data_specs_version': '6.5.0.0',\n",
      " 'generic_levels': '',\n",
      " 'id': 'acmonz.json',\n",
      " 'int_missing_value': '-999',\n",
      " 'mip_participation': ['cmip6', 'cmip6plus'],\n",
      " 'missing_value': '1e20',\n",
      " 'product': 'model-output',\n",
      " 'table_date': '2023-11-16',\n",
      " 'table_id': 'ACmonZ',\n",
      " 'type': 'mip-table',\n",
      " 'variable_entry': [{'cell_measures': '',\n",
      "                     'cell_methods': 'longitude: mean time: mean',\n",
      "                     'comment': 'total chemical loss rate for o+o1d+o3',\n",
      "                     'dimensions': ['latitude', 'plev39', 'time'],\n",
      "                     'dtype': 'real',\n",
      "                     'frequency': 'mon',\n",
      "                     'id': 'acmonz.oxloss.json',\n",
      "                     'long_name': 'Total Odd Oxygen (Ox) Loss Rate',\n",
      "                     'modeling_realm': 'atmosChem',\n",
      "                     'ok_max_mean_abs': '',\n",
      "                     'ok_min_mean_abs': '',\n",
      "                     'out_name': 'oxloss',\n",
      "                     'positive': '',\n",
      "                     'standard_name': 'tendency_of_mole_concentration_of_ox_in_air_due_to_chemical_destruction',\n",
      "                     'themes': 'TBC',\n",
      "                     'type': 'mip-variable',\n",
      "                     'units': 'mol m-3 s-1',\n",
      "                     'valid_max': '',\n",
      "                     'valid_min': ''},\n",
      "                    {'cell_measures': '',\n",
      "                     'cell_methods': 'longitude: mean time: mean',\n",
      "                     'comment': 'total production rate of o+o1d+o3 including '\n",
      "                                'o2 photolysis and all o3 producing reactions',\n",
      "                     'dimensions': ['latitude', 'plev39', 'time'],\n",
      "                     'dtype': 'real',\n",
      "                     'frequency': 'mon',\n",
      "                     'id': 'acmonz.oxprod.json',\n",
      "                     'long_name': 'Total Odd Oxygen (Ox) Production Rate',\n",
      "                     'modeling_realm': 'atmosChem',\n",
      "                     'ok_max_mean_abs': '',\n",
      "                     'ok_min_mean_abs': '',\n",
      "                     'out_name': 'oxprod',\n",
      "                     'positive': '',\n",
      "                     'standard_name': 'tendency_of_mole_concentration_of_ox_in_air_due_to_chemical_and_photolytic_production',\n",
      "                     'themes': 'TBC',\n",
      "                     'type': 'mip-variable',\n",
      "                     'units': 'mol m-3 s-1',\n",
      "                     'valid_max': '',\n",
      "                     'valid_min': ''},\n",
      "                    {'cell_measures': '',\n",
      "                     'cell_methods': 'longitude: mean time: mean',\n",
      "                     'comment': 'Mole Fraction of Ox',\n",
      "                     'dimensions': ['latitude', 'plev39', 'time'],\n",
      "                     'dtype': 'real',\n",
      "                     'frequency': 'mon',\n",
      "                     'id': 'acmonz.vmrox.json',\n",
      "                     'long_name': 'Mole Fraction of Odd Oxygen (O, O3 and O1D)',\n",
      "                     'modeling_realm': 'atmosChem',\n",
      "                     'ok_max_mean_abs': '',\n",
      "                     'ok_min_mean_abs': '',\n",
      "                     'out_name': 'vmrox',\n",
      "                     'positive': '',\n",
      "                     'standard_name': 'mole_fraction_of_ox_in_air',\n",
      "                     'themes': 'TBC',\n",
      "                     'type': 'mip-variable',\n",
      "                     'units': 'mol mol-1',\n",
      "                     'valid_max': '',\n",
      "                     'valid_min': ''}]}\n"
     ]
    }
   ],
   "source": [
    "\n",
    "frame = {\n",
    "    \"@context\": {\n",
    "        **data[0][\"@context\"],\n",
    "    #  \"variable_entry\": {\n",
    "    #      \"@reverse\": \"http://localhost:8000/data_descriptors/variables/mip-tables\"},\n",
    "    #  \"variable_entry\": {\n",
    "    #      \"@context\": \"http://localhost:8000/data_descriptors/variables/_context\",\n",
    "    #     #  \"@type\": \"@id\"\n",
    "    \n",
    "    #  }\n",
    "        \"mip_participation\":'http://localhost:8000/data_descriptors/variables/mip-era'\n",
    "    },\n",
    "    '@type':\"http://localhost:8000/data_descriptors/tables/mip-table\",\n",
    "    \n",
    "    # \"@explicit\": True,\n",
    "}\n",
    "pprint(jsonld.frame(data,frame)['@graph'][1])\n"
   ]
  },
  {
   "cell_type": "code",
   "execution_count": 77,
   "metadata": {},
   "outputs": [
    {
     "ename": "KeyError",
     "evalue": "0",
     "output_type": "error",
     "traceback": [
      "\u001b[0;31m---------------------------------------------------------------------------\u001b[0m",
      "\u001b[0;31mKeyError\u001b[0m                                  Traceback (most recent call last)",
      "Cell \u001b[0;32mIn[77], line 1\u001b[0m\n\u001b[0;32m----> 1\u001b[0m tablectx \u001b[38;5;241m=\u001b[39m \u001b[43mdata\u001b[49m\u001b[43m[\u001b[49m\u001b[38;5;241;43m-\u001b[39;49m\u001b[38;5;241;43m1\u001b[39;49m\u001b[43m]\u001b[49m\u001b[43m[\u001b[49m\u001b[38;5;241;43m0\u001b[39;49m\u001b[43m]\u001b[49m[\u001b[38;5;124m'\u001b[39m\u001b[38;5;124m@context\u001b[39m\u001b[38;5;124m'\u001b[39m]\n\u001b[1;32m      2\u001b[0m varctx \u001b[38;5;241m=\u001b[39m data[\u001b[38;5;241m-\u001b[39m\u001b[38;5;241m1\u001b[39m][\u001b[38;5;124m'\u001b[39m\u001b[38;5;124m@context\u001b[39m\u001b[38;5;124m'\u001b[39m]\n\u001b[1;32m      4\u001b[0m frame\u001b[38;5;241m=\u001b[39m {\n\u001b[1;32m      5\u001b[0m     \u001b[38;5;124m'\u001b[39m\u001b[38;5;124m@type\u001b[39m\u001b[38;5;124m'\u001b[39m:\u001b[38;5;124m\"\u001b[39m\u001b[38;5;124mmip-table\u001b[39m\u001b[38;5;124m\"\u001b[39m,\n\u001b[1;32m      6\u001b[0m     \u001b[38;5;124m'\u001b[39m\u001b[38;5;124m@context\u001b[39m\u001b[38;5;124m'\u001b[39m: {\n\u001b[0;32m   (...)\u001b[0m\n\u001b[1;32m     28\u001b[0m     \u001b[38;5;124m\"\u001b[39m\u001b[38;5;124m@default\u001b[39m\u001b[38;5;124m\"\u001b[39m: \u001b[38;5;124m'\u001b[39m\u001b[38;5;124mfsdafdsa\u001b[39m\u001b[38;5;124m'\u001b[39m\n\u001b[1;32m     29\u001b[0m }\n",
      "\u001b[0;31mKeyError\u001b[0m: 0"
     ]
    }
   ],
   "source": [
    "tablectx = data[-1][0]['@context']\n",
    "varctx = data[-1]['@context']\n",
    "\n",
    "frame= {\n",
    "    '@type':\"mip-table\",\n",
    "    '@context': {\n",
    "        **default_loader(tablectx)['document']['@context'],\n",
    "                    \"mip-variable\": {\n",
    "                        \"@reverse\": \"mip-tables\",\n",
    "                        \"@context\":default_loader(varctx)['document']['@context'],\n",
    "                    },\n",
    "                    \"variables\": { \"@reverse\": \"http://localhost:8000/data_descriptors/variables/mip-tables\" },\n",
    "                    \n",
    "                    \"mip-tables\": {\n",
    "    \"@id\": \"http://localhost:8000/data_descriptors/variables/mip-tables\",\n",
    "        \"@container\": \"@set\"\n",
    "    },\n",
    "    \"references\": {\n",
    "        \"@reverse\": \"http://localhost:8000/data_descriptors/variables/mip-tables\"\n",
    "    },\n",
    "    \n",
    "    },\n",
    "    \"variables\": {},\n",
    "    \"mip-references\": {},\n",
    "    # \"cmor_version\": {},\n",
    "\n",
    "    # \"@explicit\": True,\n",
    "    \"@default\": 'fsdafdsa'\n",
    "}\n",
    "\n",
    "pprint(frame)\n",
    "jsonld.frame(data,frame)['@graph'][0]"
   ]
  },
  {
   "cell_type": "code",
   "execution_count": 704,
   "metadata": {},
   "outputs": [],
   "source": [
    "# jsonld.expand(data[0])"
   ]
  },
  {
   "cell_type": "code",
   "execution_count": null,
   "metadata": {},
   "outputs": [],
   "source": [
    "\n",
    "Thank you for attending.\n",
    "There is a short feedback survey in slido: \n",
    "\n",
    "https://www.slido.com/\n",
    "#colocation24\n",
    "\n",
    "Direct link:\n",
    "https://app.sli.do/event/qBFXdKEKnFMN81Wy3WjiBB/live/questions?clusterId=eu1"
   ]
  },
  {
   "cell_type": "code",
   "execution_count": null,
   "metadata": {},
   "outputs": [],
   "source": [
    "#!/bin/bash\n",
    "\n",
    "# Set the target directory\n",
    "DIR=\".\"\n",
    "\n",
    "# Initialize an empty JSON-LD array structure\n",
    "\n",
    "echo '{\"@context\": ' > \"$DIR/graph.jsonld\"\n",
    "context=$(jq '.[\"@context\"]' _context) \n",
    "echo \"$context,\" >> \"$DIR/graph.jsonld\"\n",
    "\n",
    "\n",
    "echo '\"@graph\": [' >> \"$DIR/graph.jsonld\"\n",
    "\n",
    "# Loop through all jsonld files in the directory\n",
    "for file in \"$DIR\"/*.json; do\n",
    "    # Read the content of each file and strip off the enclosing braces\n",
    "    # content=$(sed '1d;$d' \"$file\")\n",
    "    # read the file\n",
    "    content=$(cat \"$file\") \n",
    "    \n",
    "    # Append the content of the file to the graph.jsonld file\n",
    "    echo \"$content,\" >> \"$DIR/graph.jsonld\"\n",
    "done\n",
    "\n",
    "# Remove the last comma (to maintain valid JSON format)\n",
    "# mac and linux have different sed inplace cmds \n",
    "# sed -i '$ s/,$//' \"$DIR/graph.jsonld\"\n",
    "sed '$ s/,$//' \"$DIR/graph.jsonld\" > \"$DIR/temp_graph.jsonld\" && mv \"$DIR/temp_graph.jsonld\" \"$DIR/graph.jsonld\"\n",
    "\n",
    "\n",
    "\n",
    "# Close the JSON-LD structure\n",
    "echo ']}' >> \"$DIR/graph.jsonld\"\n",
    "\n",
    "echo \"Combined JSON-LD file created at $DIR/graph.jsonld\"\n"
   ]
  }
 ],
 "metadata": {
  "kernelspec": {
   "display_name": "documentbrowser",
   "language": "python",
   "name": "python3"
  },
  "language_info": {
   "codemirror_mode": {
    "name": "ipython",
    "version": 3
   },
   "file_extension": ".py",
   "mimetype": "text/x-python",
   "name": "python",
   "nbconvert_exporter": "python",
   "pygments_lexer": "ipython3",
   "version": "3.11.4"
  }
 },
 "nbformat": 4,
 "nbformat_minor": 2
}
